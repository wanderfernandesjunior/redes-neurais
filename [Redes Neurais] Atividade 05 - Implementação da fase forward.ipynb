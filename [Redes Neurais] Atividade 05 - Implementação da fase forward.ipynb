{
 "cells": [
  {
   "cell_type": "markdown",
   "metadata": {},
   "source": [
    "# Atividade 05 - Implementação da fase forward\n",
    "\n",
    "Para esta atividade deve ser feita uma base para o problema XOR, que deve ter somente 4 exemplos e não vai ter separação de treino e teste.\n",
    "\n",
    "A arquitetura apresentada no fórum que trata sobre a fase forward do backpropagation deve ser implementada, em uma classe que herde BaseEstimator, ClassifierMixin. Os pesos podem ser devidos \"manualmente\" dentro do método fit. Só a fase forward será implementada. Portanto, só o método predict (ou predict_proba) deve ser implementado usando os cálculos que discutimos no fórum.\n",
    "\n",
    "Apresente um gráfico mostrando a separação das classes usando um meshgrid, como feito nas tarefas anteriores."
   ]
  },
  {
   "cell_type": "code",
   "execution_count": 96,
   "metadata": {},
   "outputs": [],
   "source": [
    "import numpy as np\n",
    "import matplotlib.pyplot as plt\n",
    "from scipy.special import expit as sigmoide\n",
    "from matplotlib.colors import ListedColormap\n",
    "from sklearn.base import BaseEstimator, ClassifierMixin\n",
    "import warnings\n",
    "warnings.filterwarnings(\"ignore\")"
   ]
  },
  {
   "cell_type": "code",
   "execution_count": 97,
   "metadata": {},
   "outputs": [],
   "source": [
    "# CARREGAMENTO DOS DADOS\n",
    "\n",
    "X = np.array([[0, 0], [0, 1],\n",
    "              [1, 0], [1, 1]])\n",
    "\n",
    "y = np.array([0, 1, 1, 0])"
   ]
  },
  {
   "cell_type": "code",
   "execution_count": 98,
   "metadata": {},
   "outputs": [],
   "source": [
    "class RedeNeuralXOR(BaseEstimator, ClassifierMixin):\n",
    "    \"Implementa uma rede neural com 3 camadas (entrada, oculta, saída)\"\n",
    "    \n",
    "    # Inicializa a rede neural\n",
    "    def __init__(self):\n",
    "        # Pesos inseridos \"manualmente\":\n",
    "        self.w_hidden = [[3.9, 9.0], [3.9, 9.0]]\n",
    "        self.b_hidden = [[-5.8, -5.8]]\n",
    "        self.w_output = [[-11.8],[10.3]]\n",
    "        self.b_output = [[-4.2]]\n",
    "        \n",
    "        # A função de ativação é a sigmóide ou função logística\n",
    "        self.funcao_ativacao = lambda x: sigmoide(x)\n",
    "    \n",
    "    # Treina a rede neural\n",
    "    def fit(self, X, y):\n",
    "        y_hidden = self.funcao_ativacao(np.dot(X, self.w_hidden) + self.b_hidden)\n",
    "        y_output = self.funcao_ativacao(np.dot(y_hidden, self.w_output) + self.b_output)\n",
    "    \n",
    "    # Executa uma query na rede neural\n",
    "    def predict(self, X):\n",
    "        y_hidden = self.funcao_ativacao(np.dot(X, self.w_hidden) + self.b_hidden)\n",
    "        return self.funcao_ativacao(np.dot(y_hidden, self.w_output) + self.b_output)"
   ]
  },
  {
   "cell_type": "code",
   "execution_count": 99,
   "metadata": {},
   "outputs": [
    {
     "data": {
      "text/plain": [
       "array([[0.01470827],\n",
       "       [0.98465215],\n",
       "       [0.98465215],\n",
       "       [0.01347361]])"
      ]
     },
     "execution_count": 99,
     "metadata": {},
     "output_type": "execute_result"
    }
   ],
   "source": [
    "# Cria uma instância da classe RedeNeuralXOR\n",
    "rede_neural_xor = RedeNeuralXOR()\n",
    "\n",
    "# Fit (não tem muito sentido pois o peso foi fixado manualmente - apenas parte forward)\n",
    "rede_neural_xor.fit(X, y)\n",
    "\n",
    "# Predict\n",
    "rede_neural_xor.predict(X)"
   ]
  },
  {
   "cell_type": "code",
   "execution_count": 109,
   "metadata": {},
   "outputs": [
    {
     "data": {
      "image/png": "[encoded data removed]",
      "text/plain": [
       "<Figure size 432x288 with 1 Axes>"
      ]
     },
     "metadata": {
      "needs_background": "light"
     },
     "output_type": "display_data"
    }
   ],
   "source": [
    "def plot_decision_regions(X, y, classifier, resolution=0.02):\n",
    "    \"\"\n",
    "    # setup marker generator and color map\n",
    "    markers = ('s', 'o', 'x', '^', 'v')\n",
    "    colors = ('blue', 'gray', 'red', 'lightgreen', 'cyan')\n",
    "    cmap = ListedColormap(colors[:len(np.unique(y))])\n",
    "\n",
    "    # plot the decision surface\n",
    "    x1_min, x1_max = X[:, 0].min() - 1, X[:, 0].max() + 1\n",
    "    x2_min, x2_max = X[:, 1].min() - 1, X[:, 1].max() + 1\n",
    "    xx1, xx2 = np.meshgrid(np.arange(x1_min, x1_max, resolution),\n",
    "                           np.arange(x2_min, x2_max, resolution))\n",
    "    Z = classifier.predict(np.array([xx1.ravel(), xx2.ravel()]).T)\n",
    "    Z = Z.reshape(xx1.shape)\n",
    "    plt.contourf(xx1, xx2, Z, alpha=0.4, cmap=cmap)\n",
    "    plt.xlim(xx1.min(), xx1.max())\n",
    "    plt.ylim(xx2.min(), xx2.max())\n",
    "\n",
    "    # plot class samples\n",
    "    for idx, cl in enumerate(np.unique(y)):\n",
    "        plt.scatter(x=X[y == cl, 0], y=X[y == cl, 1], alpha=0.8, color=cmap(idx), marker=markers[idx], label=cl)\n",
    "        \n",
    "plot_decision_regions(X, y, rede_neural_xor)\n",
    "plt.legend(loc='upper left')\n",
    "plt.show()"
   ]
  },
  {
   "cell_type": "markdown",
   "metadata": {},
   "source": [
    "## Referências utilizadas\n",
    "https://flipdazed.github.io/blog/python%20tutorial/introduction-to-neural-networks-in-python-using-XOR  \n",
    "https://chih-ling-hsu.github.io/2017/08/30/NN-XOR  "
   ]
  },
  {
   "cell_type": "code",
   "execution_count": null,
   "metadata": {},
   "outputs": [],
   "source": []
  }
 ],
 "metadata": {
  "kernelspec": {
   "display_name": "Python 3",
   "language": "python",
   "name": "python3"
  },
  "language_info": {
   "codemirror_mode": {
    "name": "ipython",
    "version": 3
   },
   "file_extension": ".py",
   "mimetype": "text/x-python",
   "name": "python",
   "nbconvert_exporter": "python",
   "pygments_lexer": "ipython3",
   "version": "3.7.6"
  }
 },
 "nbformat": 4,
 "nbformat_minor": 4
}
