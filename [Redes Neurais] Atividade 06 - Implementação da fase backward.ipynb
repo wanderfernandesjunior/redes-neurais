{
 "cells": [
  {
   "cell_type": "markdown",
   "metadata": {},
   "source": [
    "# Atividade 06 - Implementação da fase backward\n",
    "\n",
    "Com as informações discutidas no fórum anterior, implemente a fase backward na tarefa anterior."
   ]
  },
  {
   "cell_type": "code",
   "execution_count": 1,
   "metadata": {},
   "outputs": [],
   "source": [
    "import numpy as np\n",
    "import matplotlib.pyplot as plt\n",
    "from scipy.special import expit as sigmoide\n",
    "from matplotlib.colors import ListedColormap\n",
    "from sklearn.base import BaseEstimator, ClassifierMixin\n",
    "import warnings\n",
    "warnings.filterwarnings(\"ignore\")"
   ]
  },
  {
   "cell_type": "code",
   "execution_count": 2,
   "metadata": {},
   "outputs": [],
   "source": [
    "# CARREGAMENTO DOS DADOS\n",
    "\n",
    "X = np.array([[0, 0], [0, 1],\n",
    "              [1, 0], [1, 1]])\n",
    "\n",
    "y = np.array([[0], [1], [1], [0]])"
   ]
  },
  {
   "cell_type": "code",
   "execution_count": 3,
   "metadata": {},
   "outputs": [],
   "source": [
    "class RedeNeuralXOR(BaseEstimator, ClassifierMixin):\n",
    "    \"Implementa uma rede neural com 3 camadas (entrada, oculta, saída)\"\n",
    "    \n",
    "    def __init__(self):\n",
    "        # Inicializa a rede neural\n",
    "        self.taxa_aprendizado = 0.02\n",
    "        self.numero_nos_entrada = 2\n",
    "        self.numero_nos_ocultos = 2\n",
    "        self.numero_nos_camada_saida = 1\n",
    "\n",
    "        # Inicializa os pesos de forma randomica\n",
    "        self.w_camada_oculta = np.random.random(size=(self.numero_nos_entrada, self.numero_nos_ocultos))\n",
    "        self.b_camada_oculta = np.random.random(size=(1, self.numero_nos_ocultos))\n",
    "        self.w_camada_saida = np.random.random(size=(self.numero_nos_ocultos, self.numero_nos_camada_saida))\n",
    "        self.b_camada_saida = np.random.random(size=(1, self.numero_nos_camada_saida))\n",
    "\n",
    "    def derivada_sigmoide(self, x):\n",
    "        return x * (1 - x)\n",
    "\n",
    "    def erro(self, y, y_calculado):\n",
    "        return 0.5 * (y - y_calculado)**2\n",
    "\n",
    "    def fit(self, X, y):\n",
    "        # Treina a rede neural enquanto o erro for menor que 1e-4\n",
    "\n",
    "        while True:\n",
    "            # Etapa forward\n",
    "            y_camada_oculta = sigmoide(np.dot(X, self.w_camada_oculta) + self.b_camada_oculta)\n",
    "            y_calculado = sigmoide(np.dot(y_camada_oculta, self.w_camada_saida) + self.b_camada_saida)\n",
    "\n",
    "            # Calcula o erro médio de todas as instancias\n",
    "            e = self.erro(y, y_calculado).mean()\n",
    "            if e < 1e-4:\n",
    "                break\n",
    "\n",
    "            # Etapa backpropagation\n",
    "            gradiente_camada_saida = (y_calculado - y) * self.derivada_sigmoide(y_calculado)\n",
    "            gradiente_camada_oculta = gradiente_camada_saida.dot(self.w_camada_saida.T) * self.derivada_sigmoide(y_camada_oculta)\n",
    "\n",
    "            # Atualização dos parâmetros\n",
    "            self.w_camada_saida -= self.taxa_aprendizado * y_camada_oculta.T.dot(gradiente_camada_saida)\n",
    "            self.w_camada_oculta -= self.taxa_aprendizado * X.T.dot(gradiente_camada_oculta)\n",
    "\n",
    "            self.b_camada_saida -= self.taxa_aprendizado * np.sum(gradiente_camada_saida)\n",
    "            self.b_camada_oculta -= self.taxa_aprendizado * np.sum(gradiente_camada_oculta)\n",
    "\n",
    "    # Executa uma query na rede neural\n",
    "    def predict(self, X):\n",
    "        y_camada_oculta = sigmoide(np.dot(X, self.w_camada_oculta) + self.b_camada_oculta)\n",
    "        return sigmoide(np.dot(y_camada_oculta, self.w_camada_saida) + self.b_camada_saida)"
   ]
  },
  {
   "cell_type": "code",
   "execution_count": 4,
   "metadata": {},
   "outputs": [
    {
     "data": {
      "text/plain": [
       "array([[0.0150505 ],\n",
       "       [0.98651519],\n",
       "       [0.98651503],\n",
       "       [0.0144844 ]])"
      ]
     },
     "execution_count": 4,
     "metadata": {},
     "output_type": "execute_result"
    }
   ],
   "source": [
    "# Cria uma instância da classe RedeNeuralXOR\n",
    "rede_neural_xor = RedeNeuralXOR()\n",
    "\n",
    "# Fit\n",
    "rede_neural_xor.fit(X, y)\n",
    "\n",
    "# Predict\n",
    "rede_neural_xor.predict(X)"
   ]
  },
  {
   "cell_type": "code",
   "execution_count": 5,
   "metadata": {},
   "outputs": [
    {
     "data": {
      "image/png": "[encoded data removed]",
      "text/plain": [
       "<Figure size 432x288 with 1 Axes>"
      ]
     },
     "metadata": {
      "needs_background": "light"
     },
     "output_type": "display_data"
    }
   ],
   "source": [
    "def plot_decision_regions(X, y, classifier, resolution=0.02):\n",
    "    \"\"\n",
    "    # setup marker generator and color map\n",
    "    markers = ('s', 'o', 'x', '^', 'v')\n",
    "    colors = ('blue', 'gray', 'red', 'lightgreen', 'cyan')\n",
    "    cmap = ListedColormap(colors[:len(np.unique(y))])\n",
    "\n",
    "    # plot the decision surface\n",
    "    x1_min, x1_max = X[:, 0].min() - 1, X[:, 0].max() + 1\n",
    "    x2_min, x2_max = X[:, 1].min() - 1, X[:, 1].max() + 1\n",
    "    xx1, xx2 = np.meshgrid(np.arange(x1_min, x1_max, resolution),\n",
    "                           np.arange(x2_min, x2_max, resolution))\n",
    "    Z = classifier.predict(np.array([xx1.ravel(), xx2.ravel()]).T)\n",
    "    Z = Z.reshape(xx1.shape)\n",
    "    plt.contourf(xx1, xx2, Z, alpha=0.4, cmap=cmap)\n",
    "    plt.xlim(xx1.min(), xx1.max())\n",
    "    plt.ylim(xx2.min(), xx2.max())\n",
    "\n",
    "    # plot class samples\n",
    "    for idx, cl in enumerate(np.unique(y)):\n",
    "        plt.scatter(x=X[(y == cl).ravel(), 0],\n",
    "               y=X[(y == cl).ravel(), 1],\n",
    "               alpha=0.8, c=colors[idx],\n",
    "               marker=markers[idx], label=cl)\n",
    "        \n",
    "plot_decision_regions(X, y, rede_neural_xor)\n",
    "plt.legend(loc='upper left')\n",
    "plt.show()"
   ]
  },
  {
   "cell_type": "markdown",
   "metadata": {},
   "source": [
    "## Referências utilizadas\n",
    "https://flipdazed.github.io/blog/python%20tutorial/introduction-to-neural-networks-in-python-using-XOR  \n",
    "https://chih-ling-hsu.github.io/2017/08/30/NN-XOR  "
   ]
  },
  {
   "cell_type": "code",
   "execution_count": null,
   "metadata": {},
   "outputs": [],
   "source": []
  }
 ],
 "metadata": {
  "kernelspec": {
   "display_name": "Python 3",
   "language": "python",
   "name": "python3"
  },
  "language_info": {
   "codemirror_mode": {
    "name": "ipython",
    "version": 3
   },
   "file_extension": ".py",
   "mimetype": "text/x-python",
   "name": "python",
   "nbconvert_exporter": "python",
   "pygments_lexer": "ipython3",
   "version": "3.7.6"
  }
 },
 "nbformat": 4,
 "nbformat_minor": 4
}
